{
 "cells": [
  {
   "cell_type": "code",
   "execution_count": 117,
   "id": "1e7bd461-f06f-4abe-913f-a5e19022f777",
   "metadata": {},
   "outputs": [
    {
     "name": "stdout",
     "output_type": "stream",
     "text": [
      "This program will tell you if the provided email is spam / phishing / ham emails\n",
      "Here this program will allot you score on the basis of different aspects present in the provided email\n",
      "Phishing emails are fraudulent messages designed to trick you into revealing personal information.\n"
     ]
    },
    {
     "name": "stdin",
     "output_type": "stream",
     "text": [
      " enter an email which you want to check wheather it's spam email or not  Please type your reply above this line. Thanks for reaching out to SheerID about a verification request. Our Verification Support team is currently responding to requests within 3-6 days. Please know our teams are working 24/7/365 to respond to requests as quickly as possible in the order they are received. We appreciate your patience as we work on your request.  In order for our support team to provide the best assistance, if not already included, please reply with the details below:  - The company name for the offer you are attempting verification - The stage of the verification process we can help you with  If you haven't already, you can check our Help Center for potential answers to your question.  https://offers.sheerid.com/sheerid/help-center/  To add additional comments to your request, you may simply reply to this message.  navya chawla  Sep 1, 2025, 08:29 PDT  No Program ID No Verification ID External User ID Not Present  pls help  This email is a service from SheerID. [P1PXX5-41V7N]\n"
     ]
    },
    {
     "name": "stdout",
     "output_type": "stream",
     "text": [
      "spam word detected\n",
      "total spam words detected in email: 4\n",
      "your score is: 4 for spam words\n",
      "Symbol score : 0\n",
      "More than one URL found. It Might be spam.\n",
      "your score is: 1 for url found\n",
      "your total score for spam words , symbols , urls : 5\n",
      "There is No hazardous Email Sender Address\n",
      "Your score is for email adress: 0\n",
      "Total score is : 5\n",
      "Total score is on the scale of 1-10\n",
      "This email shows moderate spam indicators. Possible spam, further review suggested\n"
     ]
    },
    {
     "name": "stdout",
     "output_type": "stream",
     "text": [
      " enter a paragraph  hi \n"
     ]
    },
    {
     "name": "stdout",
     "output_type": "stream",
     "text": [
      "enter few emails\n",
      "your score is 0\n",
      "No spam words found\n"
     ]
    }
   ],
   "source": [
    "# print(\"working on a project to learn spam vs ham emails\")\n",
    "import pandas as pd\n",
    "import re\n",
    "import email\n",
    "from email import policy\n",
    "print(\"This program will tell you if the provided email is spam / phishing / ham emails\")\n",
    "print(\"Here this program will allot you score on the basis of different aspects present in the provided email\")\n",
    "print(\"Phishing emails are fraudulent messages designed to trick you into revealing personal information.\")\n",
    "\n",
    "email= input(\" enter an email which you want to check wheather it's spam email or not \")\n",
    "\n",
    "# first condition to find spam words\n",
    "spam_words=[\"win\",\"deadline\",\"offer\",\"verification\",\"confirm\",\"account\",\"update\",\"suspended\",\"restricted\",\"click here\",\"reply above\",\"help center\",\"confidentiality\", \" notice admission\",\" lottery\",\"free\",\"urgent\",\"opportunity\",\"claim\",\"sale\",\"festival\",\"bonus\",\"jackpot\",\"investment\",\"limited\",\"credited\"]\n",
    "score = 0 \n",
    "for word in spam_words:\n",
    "    if word in email.lower():\n",
    "        score +=1\n",
    "        \n",
    "if score > 0 :\n",
    "         print(\"spam word detected\")\n",
    "         print(\"total spam words detected in email:\",score )\n",
    "         print(\"your score is:\", score , \"for spam words\")\n",
    "\n",
    "else:\n",
    "    print(\"your score is 0 for spam words\")\n",
    "    print(\"No spam words found\")\n",
    "if score > 4:\n",
    "    score = 4\n",
    "    print(\"if more than 5 spam words found in email, Score for spam word will automatically reduce to 5 for better evaluation\")\n",
    "    print(\"Rationalised score for spam words is :\",score)\n",
    "# second condition to find symbols\n",
    "expressions =[\"!\", \"₹\", \"$\", \"%\", \"#\", \"*\", \"?\"]\n",
    "symbol_score = 0\n",
    "for s in expressions:\n",
    "    if email.count(s)>=1:\n",
    "        symbol_score += email.count(s) \n",
    "        print(\"total number of symbols found in email:\",symbol_score)\n",
    "        \n",
    "if symbol_score > 2:\n",
    "    symbol_score = 2\n",
    "print(\"Symbol score :\", symbol_score)\n",
    "# condition 3 checking urls \n",
    "def count_urls_simple(message):\n",
    "    return message.count(\"http\")\n",
    "email_text = \"Visit https://example.com and https://blog.com\"\n",
    "count = count_urls_simple(email_text)\n",
    "url_score = 0\n",
    "if count > 1:\n",
    "    print(\"More than one URL found. It Might be spam.\")\n",
    "    url_score+=1 \n",
    "#urls might be more risky\n",
    "    print(\"your score is:\",url_score,\"for url found\")\n",
    "    print(\"your total score for spam words , symbols , urls :\", score + symbol_score + url_score)\n",
    "else:\n",
    "    print(\"One or no URLs found.It  Might be safe\")\n",
    "if url_score > 3:\n",
    "    url_score = 3\n",
    "    \n",
    "# condition 4 checking the email adress\n",
    "adress_score = 0\n",
    "c=b+x\n",
    "if \"support@\" in email.lower() and not email.lower().endswith(\"company.com\"):\n",
    "\n",
    "    adress_score += 1\n",
    "    print(\"This contain fake support emails from free services or random domains\")\n",
    "    print(\"Your score for email adress is:\",adress_score)\n",
    "else :\n",
    "    print(\"There is No hazardous Email Sender Address\")\n",
    "    print(\"Your score is for email adress:\",adress_score)\n",
    "c = score + symbol_score + url_score\n",
    "print(\"Total score is :\",c)   \n",
    "print(\"Total score is on the scale of 1-10\")\n",
    "if 0<(c)<=2:\n",
    "    print(\"it is a ham email. \")\n",
    "elif  3 <= (c) <= 6:\n",
    "    print(\"This email shows moderate spam indicators. Possible spam, further review suggested\")\n",
    "else : \n",
    "    print(\"This email is likely phishing or high-risk spam.\")\n",
    "    \n",
    "\n"
   ]
  },
  {
   "cell_type": "code",
   "execution_count": null,
   "id": "3da81316-7389-4d34-b2d4-f199c5c94953",
   "metadata": {},
   "outputs": [],
   "source": []
  },
  {
   "cell_type": "code",
   "execution_count": null,
   "id": "451aa414-bd6e-4be5-beca-78c9fcdd3c46",
   "metadata": {},
   "outputs": [],
   "source": []
  }
 ],
 "metadata": {
  "kernelspec": {
   "display_name": "Python [conda env:base] *",
   "language": "python",
   "name": "conda-base-py"
  },
  "language_info": {
   "codemirror_mode": {
    "name": "ipython",
    "version": 3
   },
   "file_extension": ".py",
   "mimetype": "text/x-python",
   "name": "python",
   "nbconvert_exporter": "python",
   "pygments_lexer": "ipython3",
   "version": "3.13.5"
  }
 },
 "nbformat": 4,
 "nbformat_minor": 5
}
